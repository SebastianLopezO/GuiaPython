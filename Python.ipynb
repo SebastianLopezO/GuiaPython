{
 "cells": [
  {
   "cell_type": "markdown",
   "id": "86e2955b",
   "metadata": {},
   "source": [
    "# Presentado Por:\n",
    "- Sebastian Lopez Osorno\n",
    "- Mariangel Johanna Sierra Jaller\n",
    "- Sara Pabon Gonzalez "
   ]
  },
  {
   "cell_type": "markdown",
   "id": "c85188e1",
   "metadata": {},
   "source": [
    "# ![alt](https://i0.hdslb.com/bfs/article/61e76ff1b59bafeeaa995a68cb418fee27ba2630.jpg)\n",
    "\n",
    "\n",
    "\n",
    "# ¿Qué es?\n",
    "\n",
    "**Python** un lenguaje de Programación popular por sus miles de aplicabilidades, con un característico nombre que no se puede olvidar. Python es un lenguaje que se puede usar fácilmente, ya que es un lenguaje de alto nivel lo que significa que es más cercano a nuestro lenguaje nativo en el que se prioriza el entendimiento en función de la capacidad cognitiva humana, en vez de la capacidad con que lo ejecuta una máquina, pero aun así puede tener una alta velocidad de compilado.\n",
    "\n",
    "Es un Lenguaje de programación fácil de usar debido a su sintaxis similar a el idioma inglés permitiendo a los desarrolladores a programar con grandes funcionabilidades en pocas líneas de código. **Python** es un lenguaje interpretado y no compilado, lo que significa que primero se transformar a otro lenguaje de programación de bajo nivel, para después compilarse lo cual significa que su ejecución es más rápida que otros lenguajes de alto nivel. Por último, debido a su funcionabilidad en diferentes plataformas como lo son Windows, Mac y Linux, haciendo más fácil su instalación e implementación.\n",
    "\n",
    "**Python** a comparación de otros lenguajes fue diseñado para una mayor comprensión a la hora de leer, debido a su similitud con el inglés y gran parecido a la lógica matemática a la hora de programar, esto se ve reflejado en el uso de la sangría en vez del uso de \" , \" \" ; \" \" {} \" entre otros caracteres para determinar el inicio y fin de una línea de código.\n",
    "\n",
    "## Usos\n",
    "\n",
    "**Python** tiene diferentes usos y aplicabilidades:\n",
    "- Inteligencia Artificial (AI)\n",
    "- Big Data\n",
    "- Ciencia de los Datos\n",
    "- Desarrollo web\n",
    "- Desarrollo de Software\n",
    "- Matemáticas\n"
   ]
  },
  {
   "cell_type": "markdown",
   "id": "49524546",
   "metadata": {},
   "source": [
    "# Inicio con Python\n",
    "Python es tan fácil que con una sola línea podemos imprimir cualquier tipo de datos con una sola línea de comando, sin importar funciones o invocar otros parámetros, tan solo con \"pronto\" que se traduce como imprimir y entre paréntesis lo que desea imprimir"
   ]
  },
  {
   "cell_type": "code",
   "execution_count": 1,
   "id": "c11454c2",
   "metadata": {
    "scrolled": true
   },
   "outputs": [
    {
     "name": "stdout",
     "output_type": "stream",
     "text": [
      "Hola Mundo\n"
     ]
    }
   ],
   "source": [
    "print(\"Hola Mundo\")"
   ]
  },
  {
   "cell_type": "markdown",
   "id": "d793d7c2",
   "metadata": {},
   "source": [
    "# Variables y tipos de datos\n",
    "\n",
    "Las variables y los datos son términos que van muy de la mano, debido a que las variables es el nombre que recibe el dato que se desea almacenar, con un identificador único en el que puede variar el dato, ya que como su nombre lo indica son variables. Estas varias pueden contener los diferentes tipos de datos de **Python**\n",
    "\n",
    "## Variables\n",
    "\n",
    "Una variable son datos que pueden tomar diferentes valores según el algoritmo. Las variables de algoritmo tienen nombres para identificarlas en el algoritmo. Un nombre es una cadena alfanumérica que debe comenzar con la letra de la A a la Z y puede estar en mayúsculas o minúsculas. Los nombres pueden contener números o guiones bajos. Recomendamos encarecidamente que los nombres de las variables tengan un nombre relacionado con lo que representan. No puede haber dos variables con el mismo nombre en un algoritmo. Debido a que una letra mayúscula es diferente de una letra minúscula, la variable A1 es diferente de la variable az.  En todos los idiomas, existe un conjunto de palabras reservadas llamadas palabras clave que no se pueden utilizar como nombres de variables son:\n",
    "\n",
    "- not\n",
    "- import\n",
    "- finally\n",
    "- print\n",
    "- while\n",
    "- in\n",
    "- elif\n",
    "- del\n",
    "- pass\n",
    "- for\n",
    "- else\n",
    "- or\n",
    "- except\n",
    "- exec\n",
    "- global\n",
    "- raise\n",
    "- def\n",
    "- return\n",
    "- assert\n",
    "- continue\n",
    "- if\n",
    "- and\n",
    "- try\n",
    "- break\n",
    "- lambda\n",
    "- class\n",
    "- is\n",
    "- from\n",
    "\n"
   ]
  },
  {
   "cell_type": "code",
   "execution_count": 2,
   "id": "c1a3e516",
   "metadata": {},
   "outputs": [],
   "source": [
    "a=3.4 #Variable flotante\n",
    "b=3 #Variable Entera\n",
    "avion=\"vuela\" #Variable de String\n",
    "activo=True #Variable Booleana"
   ]
  },
  {
   "cell_type": "markdown",
   "id": "39fcb038",
   "metadata": {},
   "source": [
    "## Tipos de Datos\n",
    "- Enteros (int)"
   ]
  },
  {
   "cell_type": "code",
   "execution_count": 3,
   "id": "ad7aabc7",
   "metadata": {},
   "outputs": [],
   "source": [
    "num=85 #int"
   ]
  },
  {
   "cell_type": "markdown",
   "id": "e25c4329",
   "metadata": {},
   "source": [
    "- Decimales (float)"
   ]
  },
  {
   "cell_type": "code",
   "execution_count": 4,
   "id": "a86a9644",
   "metadata": {},
   "outputs": [],
   "source": [
    "num=3.0; num=3. #float"
   ]
  },
  {
   "cell_type": "markdown",
   "id": "5c17f17c",
   "metadata": {},
   "source": [
    "- Complejos (complex)"
   ]
  },
  {
   "cell_type": "code",
   "execution_count": 5,
   "id": "55b76f3f",
   "metadata": {},
   "outputs": [],
   "source": [
    "num=3.1416+3j #complex"
   ]
  },
  {
   "cell_type": "markdown",
   "id": "8559c665",
   "metadata": {},
   "source": [
    "- booleanos (bool)"
   ]
  },
  {
   "cell_type": "code",
   "execution_count": 6,
   "id": "44c39be1",
   "metadata": {},
   "outputs": [],
   "source": [
    "Bool=True; Bool=False #bool"
   ]
  },
  {
   "cell_type": "markdown",
   "id": "bc6054a0",
   "metadata": {},
   "source": [
    "- Cadena (str)(unicode)"
   ]
  },
  {
   "cell_type": "code",
   "execution_count": 7,
   "id": "e23bb213",
   "metadata": {},
   "outputs": [],
   "source": [
    "text='Hola Mundo'; text=\"Hola Mundo\" #str"
   ]
  },
  {
   "cell_type": "markdown",
   "id": "15827074",
   "metadata": {},
   "source": [
    "- Secuencias (list)(tuple)"
   ]
  },
  {
   "cell_type": "code",
   "execution_count": 8,
   "id": "4cb8604e",
   "metadata": {},
   "outputs": [],
   "source": [
    "lista=[1,2,3,4,5,6,7,8,9,10] #list\n",
    "tupla=(1,2,3,4,5,6,7,8,9,10) #tuple"
   ]
  },
  {
   "cell_type": "markdown",
   "id": "e6d6704e",
   "metadata": {},
   "source": [
    "## Ejercicio\n",
    "\n",
    "Juan desea conocer las tablas de multiplicar, para lo cual le pide ayuda a su amigo programador el cual le realiza el siguiente programa:"
   ]
  },
  {
   "cell_type": "code",
   "execution_count": 9,
   "id": "19debc5d",
   "metadata": {},
   "outputs": [
    {
     "name": "stdout",
     "output_type": "stream",
     "text": [
      "Ingrese el numero de la tabla de Multiplicar que desea conocer: 10\n",
      "1 x 10 = 10\n",
      "2 x 10 = 20\n",
      "3 x 10 = 30\n",
      "4 x 10 = 40\n",
      "5 x 10 = 50\n",
      "6 x 10 = 60\n",
      "7 x 10 = 70\n",
      "8 x 10 = 80\n",
      "9 x 10 = 90\n",
      "10 x 10 = 100\n"
     ]
    }
   ],
   "source": [
    "num=int(input(\"Ingrese el numero de la tabla de Multiplicar que desea conocer: \"))\n",
    "limite=10\n",
    "tabla=[]\n",
    "\n",
    "for i in range(1,limite+1):\n",
    "    tabla.append(i*num)\n",
    "    print(i,\"x\",num,\"=\",tabla[i-1])"
   ]
  },
  {
   "cell_type": "markdown",
   "id": "8729a92a",
   "metadata": {},
   "source": [
    "# Condicionales simples, compuestos y anidados\n",
    "\n",
    "Los condicionales surgen apartir de la necesidad de poner unos parametros que si surgen verdaderos desencadenen una accion determinada, podemos tomar como ejemplo la condicion de tener hambre, \"si tienes hambre\" la accion que desencadena es \"comer\", en caso contrario las acciones no estan determinadas. Siendo asi podemos decir que estos tres condicionales se caracterizan por efectuar una operacion apartir de ciertos parametros. La palabra para las condiciones es **Si**, que antecede a la expresion logica la cual puede ser una diferencia, una igualdad, entre otros tipos de comparaciones. \n",
    "\n",
    "Las partes de una condicion son:\n",
    "- Estructura del Lenguaje\n",
    "- Expresion Logica\n",
    "- Instrucciones"
   ]
  },
  {
   "cell_type": "code",
   "execution_count": 10,
   "id": "6271bad1",
   "metadata": {},
   "outputs": [
    {
     "name": "stdout",
     "output_type": "stream",
     "text": [
      "8 Es mayor que 3\n"
     ]
    }
   ],
   "source": [
    "import random\n",
    "a=random.randint(0,10)\n",
    "b=random.randint(0,10)\n",
    "if (b>a): #Expresion Logica\n",
    "    print(b,\"Es mayor que\",a) #Instrucciones\n",
    "else:\n",
    "    print(a,\"Es mayor que\",b) #Instrucciones"
   ]
  },
  {
   "cell_type": "markdown",
   "id": "b6843a34",
   "metadata": {},
   "source": [
    "\n",
    "## Condicional Simple\n",
    "\n",
    "Un condicional simple como su nombre lo indica, es un condicional con una unica condicion la cual al cumplirse ejecuta las instrucciones dadas en el condicional. Para este solo se usa un **if**\n"
   ]
  },
  {
   "cell_type": "code",
   "execution_count": 11,
   "id": "4aecdb27",
   "metadata": {},
   "outputs": [
    {
     "name": "stdout",
     "output_type": "stream",
     "text": [
      "Juan tiene:  13 años de edad\n"
     ]
    }
   ],
   "source": [
    "import random\n",
    "edad=random.randint(5,21)\n",
    "print(\"Juan tiene: \",edad,\"años de edad\")\n",
    "if edad>=18:\n",
    "    print(\"Si puede acceder al Bar\")"
   ]
  },
  {
   "cell_type": "markdown",
   "id": "95de6047",
   "metadata": {},
   "source": [
    "\n",
    "## Condicional Compuesto\n",
    "\n",
    "Un condicional compuesto como su nombre lo dice, es un condicional con diversas condiciones, para que pueda ejecutar las instrucciones dadas segun cada caso. En este condicional se usa **if**, **elif** para evaluar otra condicion y **else** en caso de que ninguna condicion se cumpla, permitiendo ejectuar diferentes instrucciones en cada caso.\n"
   ]
  },
  {
   "cell_type": "code",
   "execution_count": 12,
   "id": "7b26f667",
   "metadata": {},
   "outputs": [
    {
     "name": "stdout",
     "output_type": "stream",
     "text": [
      "Juan tiene:  11 años de edad\n",
      "LLamar a la Policia de Infancia y Adolescencia \n"
     ]
    }
   ],
   "source": [
    "import random\n",
    "edad=random.randint(5,21)\n",
    "print(\"Juan tiene: \",edad,\"años de edad\")\n",
    "if edad>=18:\n",
    "    print(\"Si puede acceder al Bar\")\n",
    "elif edad<18 and edad>=15:\n",
    "    print(\"No puede acceder al Bar\")\n",
    "else:\n",
    "    print(\"LLamar a la Policia de Infancia y Adolescencia \")"
   ]
  },
  {
   "cell_type": "markdown",
   "id": "29b09b14",
   "metadata": {},
   "source": [
    "\n",
    "## Condicional Anidado\n",
    "\n",
    "Un condicional Anidado, es un condicional enlazado a otro condicional, en pocas palabras un condicional dentro de otro condicional, permitiendo de esta manera tener una condicion diferente en cada caso raiz evauando diferentes instrucciones."
   ]
  },
  {
   "cell_type": "code",
   "execution_count": 13,
   "id": "01f76a16",
   "metadata": {},
   "outputs": [
    {
     "name": "stdout",
     "output_type": "stream",
     "text": [
      "Juan tiene:  20 años de edad\n",
      "Si puede acceder al Bar\n",
      "Debe pagar 20$\n"
     ]
    }
   ],
   "source": [
    "import random\n",
    "edad=random.randint(5,21)\n",
    "sexo=\"Hombre\"\n",
    "print(\"Juan tiene: \",edad,\"años de edad\")\n",
    "if edad>=18:\n",
    "    print(\"Si puede acceder al Bar\")\n",
    "    if sexo==\"Hombre\":\n",
    "        print(\"Debe pagar 20$\")\n",
    "    elif sexo==\"Mujer\":\n",
    "        print(\"Entrada Gratuita\")\n",
    "elif edad<18 and edad>=15:\n",
    "    print(\"No puede acceder al Bar\")\n",
    "else:\n",
    "    print(\"LLamar a la Policia de Infancia y Adolescencia \")"
   ]
  },
  {
   "cell_type": "markdown",
   "id": "0f62090f",
   "metadata": {},
   "source": [
    "## Ejercicio\n",
    "\n",
    "Considere una lista ( list = []). Puede realizar los siguientes comandos:\n",
    "\n",
    "- insert i e: Insertar entero  en la posición .\n",
    "- print: Imprime la lista.\n",
    "- remove e: Elimina la primera aparición de entero .\n",
    "- append e: Insertar entero  al final de la lista.\n",
    "- sort: Ordena la lista.\n",
    "- pop: Pop el último elemento de la lista.\n",
    "- reverse: Invierte la lista.\n",
    "\n",
    "Inicialice su lista y lea el valor de  seguido por  líneas de comandos donde cada comando será del tipos enumerados anteriormente. Repita cada comando en orden y realice la operación correspondiente en su lista.\n",
    "\n",
    "- Formato de entrada\n",
    "\n",
    "La primera línea contiene un número entero, , que denota el número de comandos.\n",
    "Cada línea de El  las líneas siguientes contienen uno de los comandos descritos anteriormente.\n",
    "\n",
    "- Restricciones\n",
    "\n",
    "Los elementos agregados a la lista deben ser números enteros .\n",
    "Formato de salida\n",
    "\n",
    "Para cada comando de tipo print, imprima la lista en una nueva línea."
   ]
  },
  {
   "cell_type": "code",
   "execution_count": 14,
   "id": "dec11db6",
   "metadata": {},
   "outputs": [
    {
     "name": "stdout",
     "output_type": "stream",
     "text": [
      "12\n",
      "ingresa accion: insert 0 5\n",
      "ingresa accion: insert 1 10\n",
      "ingresa accion: insert 0 6\n",
      "ingresa accion: print\n",
      "[6, 5, 10]\n",
      "ingresa accion: remove 6\n",
      "ingresa accion: append 6\n",
      "ingresa accion: append 9\n",
      "ingresa accion: append 1\n",
      "ingresa accion: sort\n",
      "ingresa accion: print\n",
      "[1, 5, 6, 9, 10]\n",
      "ingresa accion: pop\n",
      "ingresa accion: reverse\n"
     ]
    }
   ],
   "source": [
    "n = int(input())\n",
    "lista=[]\n",
    "for prueba in range(1,n+1):\n",
    "    accion=str(input(\"ingresa accion: \"))\n",
    "    accion=accion.split()\n",
    "    #funciones\n",
    "    if accion[0]==\"insert\":\n",
    "        lista.insert(int(accion[1]),int(accion[2]))\n",
    "    elif accion[0]==\"append\":\n",
    "        lista.append(int(accion[1]))\n",
    "    elif accion[0]==\"remove\":\n",
    "        lista.remove(int(accion[1]))\n",
    "    elif accion[0]==\"pop\":\n",
    "        lista.pop(len(lista)-1)\n",
    "    elif accion[0]==\"sort\":\n",
    "        lista.sort()\n",
    "    elif accion[0]==\"reverse\":\n",
    "        lista.reverse()\n",
    "    elif accion[0]==\"print\":\n",
    "        mostrar=str(lista)\n",
    "        mostrar=mostrar.replace(\"'\",\"\")\n",
    "        print(mostrar)"
   ]
  },
  {
   "cell_type": "markdown",
   "id": "b1c3f34d",
   "metadata": {},
   "source": [
    "# Ciclo For y Ciclo While\n",
    "\n",
    "En ocasiones es necesario repetir una instrucción o un conjunto de instrucciones con un fin, que es el de no repetir código más de una vez, logrando automatizar tareas sin necesidad de entrar a la redundancia de código. Para esto es que se inventaron los ciclos, los cuales son los ciclos **Foro** y **Chile** los cuales se seguirán ejecutando si se cumple una instrucción lógica\n",
    "\n",
    "Los ciclos son un conjunto de instrucciones que se repiten de forma continua hasta alcanzar el límite del rango o al no cumplirse el condicional, haciendo que se salga del bucle. Este tipo de comandos se utilizan para acciones repetitivas que necesitan ser automatizadas por medio de un bucle, del que se puede salir por medio de un **Break** en una situación en especifico\n",
    "\n",
    "## Ciclo For\n",
    "El ciclo **for** se caracteriza por tener un rango definido, por lo cual se sabe el numero de repeticiones que realizara el programa ejecutado, teniendo mas control sobre la cantidad de veces que se repite y con menos probabilidad de entrar en un bucle infinito que hara que la computadora no puede procesarlo todo\n"
   ]
  },
  {
   "cell_type": "code",
   "execution_count": 15,
   "id": "ed855840",
   "metadata": {},
   "outputs": [
    {
     "name": "stdout",
     "output_type": "stream",
     "text": [
      "Ingrese la cantidad de numeros de fibonacci que desea conocer: 20\n",
      "1\n",
      "1\n",
      "2\n",
      "3\n",
      "5\n",
      "8\n",
      "13\n",
      "21\n",
      "34\n",
      "55\n",
      "89\n",
      "144\n",
      "233\n",
      "377\n",
      "610\n",
      "987\n",
      "1597\n",
      "2584\n",
      "4181\n",
      "6765\n"
     ]
    }
   ],
   "source": [
    "inicio=0\n",
    "fin=1\n",
    "limite=int(input(\"Ingrese la cantidad de numeros de fibonacci que desea conocer: \"))\n",
    "for i in range(0,limite):\n",
    "    sig=inicio+fin\n",
    "    fin=inicio\n",
    "    inicio=sig\n",
    "    print(inicio)"
   ]
  },
  {
   "cell_type": "markdown",
   "id": "0da82ef6",
   "metadata": {},
   "source": [
    "## Ciclo While"
   ]
  },
  {
   "cell_type": "markdown",
   "id": "c1b379ca",
   "metadata": {},
   "source": [
    "El ciclo **while** se caracteriza por ejecutarse continuamente sin tener un rango definido, ya que es un ciclo en base a un condicional, el cual define si se seguira ejecutando las intrucciones dentro del ciclo, el cual puede detenerse haciendo que la condicion sea falsa o mediante un **Break**, lo cual sino se hace puede entrar en un ciclo infinito hasta que la computadora no pueda procesar todas las repeticiones ocasionando un error muy grave."
   ]
  },
  {
   "cell_type": "code",
   "execution_count": 16,
   "id": "0065dae0",
   "metadata": {},
   "outputs": [
    {
     "name": "stdout",
     "output_type": "stream",
     "text": [
      "Ingrese la calificacion #1: 5\n",
      "Ingrese la calificacion #2: 4\n",
      "Ingrese la calificacion #3: 3\n",
      "Ingrese la calificacion #4: 4\n",
      "Ingrese la calificacion #5: 5\n",
      "Ingrese la calificacion #6: 2\n",
      "Ingrese la calificacion #7: 3\n",
      "Ingrese la calificacion #8: \n",
      "El promedio de las calificaciones es:  3.7142857142857144\n"
     ]
    }
   ],
   "source": [
    "active=True\n",
    "cont=0\n",
    "sum=0\n",
    "while active:\n",
    "    cont+=1\n",
    "    n=input(\"Ingrese la calificacion #\"+str(cont)+\": \")\n",
    "    if n==\"\":\n",
    "        break\n",
    "    else:\n",
    "        n=int(n)\n",
    "        sum+=n\n",
    "\n",
    "promedio=sum/(cont-1)\n",
    "print(\"El promedio de las calificaciones es: \", promedio)"
   ]
  },
  {
   "cell_type": "markdown",
   "id": "200e8007",
   "metadata": {},
   "source": [
    "## Ejercicio\n",
    "\n",
    "Se desea calcular la seccion aurea mendiante las acortaciones de Lambda y Mi, donde sus puntos de referencia son -2 y 2 respectivamente"
   ]
  },
  {
   "cell_type": "code",
   "execution_count": 17,
   "id": "90aa4359",
   "metadata": {},
   "outputs": [
    {
     "data": {
      "image/png": "[encoded data removed]",
      "text/plain": [
       "<Figure size 432x288 with 1 Axes>"
      ]
     },
     "metadata": {
      "needs_background": "light"
     },
     "output_type": "display_data"
    }
   ],
   "source": [
    "import matplotlib.pyplot as plt\n",
    "import numpy as np\n",
    "\n",
    "def Grafica(x,y):\n",
    "  plt.xlabel('Puntos X')\n",
    "  plt.ylabel('Puntos Y')\n",
    "  plt.title('Puntos Maximos y Minimos')\n",
    "  plt.plot(x,y,'g--')\n",
    "  plt.rcParams[\"figure.figsize\"] = (10, 10)\n",
    "  plt.show()\n",
    "\n",
    "a=-2\n",
    "b=2\n",
    "conIte=0\n",
    "limite=b*10**a\n",
    "alpha=0.618\n",
    "x=np.linspace(-2.0,2.0,100)\n",
    "fLam=lambda a,b: a+(b-a)*(1-alpha)\n",
    "fMi=lambda a,b: a+(b-a)*alpha\n",
    "f=lambda x:x**3-3*x+2\n",
    "lamda=fLam(a,b)\n",
    "miu=fMi(a,b)\n",
    "fLamda=f(lamda)\n",
    "fMiu=f(miu)\n",
    "\n",
    "while(np.abs(b-a))>=limite:\n",
    "  conIte+=1\n",
    "  if fLamda>fMiu:\n",
    "    a=lamda\n",
    "    lamda=miu\n",
    "    miu=fMi(a,b)\n",
    "    fMiu=f(miu)\n",
    "    lamda=fLam(a,b)\n",
    "    fLamda=f(lamda)\n",
    "  elif fLamda<fMiu:\n",
    "    b=miu\n",
    "    miu=lamda\n",
    "    lamda=fLam(a,b)\n",
    "    fLamda=f(lamda)\n",
    "    miu=fMi(a,b)\n",
    "    fMiu=f(miu)\n",
    "  sublista=[lamda,fLamda,miu,fMiu]\n",
    "  plt.plot(lamda,fLamda, 'rd' ,miu,fMiu, 'bo' )\n",
    "Grafica(x,f(x))"
   ]
  },
  {
   "cell_type": "markdown",
   "id": "d151fed8",
   "metadata": {},
   "source": [
    "# Estructuras de datos en Python\n",
    "\n",
    "## Listas\n",
    "\n",
    "Son probablemente el tipo de dato en Python más versátil que hay, siendo bastante similar a un Array, además de que las listas nos permiten almacenar distintos tipos de datos, e incluso son mutables (Una de las principales diferencias que tiene al compararla con una Tupla) y dinámicas, ya que luego de haber sido creados, tienen la posibilidad de modificarse, añadir o eliminar elementos.\n",
    "\n",
    "Aunque sus algunos de sus métodos son iguales a los de un Array, algunos comunes a mencionar son append() (Agrega un elemento al final de la lista), count() (Muestra cuantas veces se repite un elemento de la lista), insert() (Inserta un elemento de nuestra elección en el índice que deseemos), remove() (buscara un elemento de la lista, y borrara la primera coincidencia que encuentre), entre otros métodos."
   ]
  },
  {
   "cell_type": "code",
   "execution_count": 18,
   "id": "bcbd0cb6",
   "metadata": {},
   "outputs": [
    {
     "name": "stdout",
     "output_type": "stream",
     "text": [
      "Ingrese la cantidad de numeros que desea agregar: 2\n",
      "Ingrese la lista de numero separados por un espacio: 2 9\n",
      "Segundo Numero Mayor\n",
      "2\n"
     ]
    }
   ],
   "source": [
    "n = int(input(\"Ingrese la cantidad de numeros que desea agregar: \"))\n",
    "lista = str(input(\"Ingrese la lista de numero separados por un espacio: \"))\n",
    "lista=lista.split()\n",
    "for i in range(0,len(lista)):\n",
    "    lista[i]=int(lista[i])\n",
    "lista.sort(reverse=True)\n",
    "cont=0\n",
    "i=0\n",
    "print(\"Segundo Numero Mayor\")\n",
    "while cont!=1:\n",
    "    if lista[i]!=max(lista):\n",
    "        print(lista[i])\n",
    "        cont=1\n",
    "    i+=1"
   ]
  },
  {
   "cell_type": "markdown",
   "id": "e6833679",
   "metadata": {},
   "source": [
    "## Tuplas\n",
    "\n",
    "Son muy similares a las listas, siendo su mayor diferencia el hecho de que las tuplas son inmutables, es decir, una vez creadas, no pueden ser modificadas. 2 metodos que tiene son count() (Cuenta cuantas veces aparece un elemento en la tupla) e index() (Se da un elemento como parámetro y se devuelve el índice del su primera aparición), pero el resto de los métodos son los mismos que tienen las listas"
   ]
  },
  {
   "cell_type": "code",
   "execution_count": 19,
   "id": "224a3625",
   "metadata": {},
   "outputs": [
    {
     "name": "stdout",
     "output_type": "stream",
     "text": [
      "Ingrese el numero de elementos a agregar: 5\n",
      "Ingrese los elementos separados por espacio: 2 3 4 56 2\n",
      "(2, 3, 4, 56, 2)\n",
      "Numero en hash de la tupla: 889559508944296012\n"
     ]
    }
   ],
   "source": [
    "n = int(input(\"Ingrese el numero de elementos a agregar: \"))\n",
    "integer_list = map(int, input(\"Ingrese los elementos separados por espacio: \").split())\n",
    "t=tuple(integer_list)\n",
    "print(t)\n",
    "print(\"Numero en hash de la tupla:\",hash(t))"
   ]
  },
  {
   "cell_type": "markdown",
   "id": "87bd63df",
   "metadata": {},
   "source": [
    "## Diccionarios\n",
    "\n",
    "Son de tipo de mapeo que permiten ingresar varios elementos (Un elemento clave, palabra clave, etc.) y asignarles un valor a estos elementos. De esta forma, si queremos conocer un valor guardado en un diccionario, lo buscaríamos por su palabra clave. Los diccionarios son mutables y no tienen un orden especifico, a diferencia de las listas que se ordenan de forma similar a los Arrays.\n",
    "Algunos métodos conocidos de los diccionarios son dict () (Recibe como parámetro una representación de un diccionario y si es factible, devuelve un diccionario de datos.), keys() (Devuelven las palabras claves que contiene el diccionario), values() (Devuelven los valores que contienen los diccionarios), ítems() (Devuelve las tuplas del diccionario, en orden de la palabra clave y su valor), entre otros métodos."
   ]
  },
  {
   "cell_type": "code",
   "execution_count": 20,
   "id": "f5c38e22",
   "metadata": {},
   "outputs": [
    {
     "name": "stdout",
     "output_type": "stream",
     "text": [
      "Ingrese la cantidad de numeros que desea agregar: 5\n",
      "Ingrese el elemento #1:10\n",
      "Ingrese el elemento #2:9\n",
      "Ingrese el elemento #3:57\n",
      "Ingrese el elemento #4:23\n",
      "Ingrese el elemento #5:21\n",
      "{'Dato 1': 10, 'Dato 2': 9, 'Dato 3': 57, 'Dato 4': 23, 'Dato 5': 21}\n"
     ]
    }
   ],
   "source": [
    "n = int(input(\"Ingrese la cantidad de numeros que desea agregar: \"))\n",
    "d={}\n",
    "for i in range(0,n):\n",
    "    key=\"Dato \"+str(i+1)\n",
    "    num=int(input(\"Ingrese el elemento #\"+str(i+1)+\":\"))\n",
    "    d[key]=num\n",
    "print(d)"
   ]
  },
  {
   "cell_type": "markdown",
   "id": "b47fe1cd",
   "metadata": {},
   "source": [
    "# Funciones\n",
    "\n",
    "Son bloques de código que tienen un nombre, parámetros o argumentos necesarios para ser llamados y utilizados adecuadamente y unas secuencias de código interno que realizan una función o acción específica. Son de gran ayuda ya que se pueden reutilizar más adelante en el código o pueden ayudar a simplificar un programa"
   ]
  },
  {
   "cell_type": "code",
   "execution_count": 21,
   "id": "b843713b",
   "metadata": {},
   "outputs": [
    {
     "name": "stdout",
     "output_type": "stream",
     "text": [
      "7\n",
      "Si es un numero Primo\n"
     ]
    }
   ],
   "source": [
    "def determinarPrimo(num):\n",
    "    num=int(num)\n",
    "    result=False\n",
    "    dif=0\n",
    "    if num%2!=0 or num==2:\n",
    "        result=True\n",
    "\n",
    "    if result==True:\n",
    "        print(\"Si es un numero Primo\")\n",
    "    elif result==False:\n",
    "        print(\"No es un numero primo\")\n",
    "        \n",
    "numeros=input()\n",
    "numeros=determinarPrimo(numeros)"
   ]
  },
  {
   "cell_type": "markdown",
   "id": "6ab6da9c",
   "metadata": {},
   "source": [
    "# Programacion Orientada a Objetos\n",
    "\n",
    "Entre las tantas posibilidades que nos ofrece Python en distintos campos de programación, POO (Programación Orientada a Objetos) es una de ellas y nos permite de forma efectiva y organizada reutilizar código, aunque no es muy intuitivo, a diferencia de otros lenguajes de programación.\n",
    "Algunos conceptos que destacan del POO de Python son los siguientes:\n",
    "- Las clases, quienes definen el comportamiento y propiedades de un tipo específico de objetos\n",
    "\n",
    "- Los objetos, que son tipos de datos que tienen características propias y funcionalidades propias (Atributos y métodos) y se definen utilizando clases. Estos corresponden a los objetos de la vida normal u objetos de un sistema.\n",
    "\n",
    "- El comportamiento de un objeto, que está definido por las funcionalidades que tiene sus métodos.\n",
    "\n",
    "- El estado interno, el cual indica distintas situaciones posibles para el objeto y solo puede ser modificada por un método del objeto, dado que es una variable privada. Incluso para los programadores, no es visible o accesible a simple vista.\n",
    "\n",
    "Todos los objetos deben pertenecer a una clase, ya que así se pueden diferenciar entre ellos teniendo atributos y comportamientos que los distingan de objetos que pertenezcan a otras clases.\n",
    "\n",
    "Debemos definir sus atributos y comportamientos, para hacer esto debemos dejar la sangría correspondiente para indicarle que estamos escribiendo dentro de la clase, para definir un atributo simplemente creamos una variable con total normalidad y un valor que le queramos dar. para definir un método lo hacemos igual como lo hacemos con una función con la palabra por defecto def y el nombre de dicho método, pero para diferenciar un método de una función lo hacemos escribiendo dentro de sus paréntesis el parámetro."
   ]
  },
  {
   "cell_type": "code",
   "execution_count": 22,
   "id": "5e6af940",
   "metadata": {},
   "outputs": [
    {
     "name": "stdout",
     "output_type": "stream",
     "text": [
      "Acelerando a  0.9907795210558816  Match\n",
      "El Ovni va a 1  Match\n"
     ]
    }
   ],
   "source": [
    "import random\n",
    "class Ovni():\n",
    "    velocidades=a\n",
    "    def velocidad(self):\n",
    "        print(\"El Ovni va a\", a, \" Match\")\n",
    "        \n",
    "a=random.randint(1,10)    \n",
    "Veh1=Ovni()\n",
    "print(\"Acelerando a \", Veh1.velocidades, \" Match\")\n",
    "Veh1.velocidad()\n"
   ]
  },
  {
   "cell_type": "markdown",
   "id": "e8879959",
   "metadata": {},
   "source": [
    "# Ejercicio Integrador\n",
    "Se desea conocer las posiciones posibles de un caballo en un tablero de Ajedrez, a partir de una posición dada"
   ]
  },
  {
   "cell_type": "code",
   "execution_count": 23,
   "id": "e465476d",
   "metadata": {},
   "outputs": [
    {
     "name": "stdout",
     "output_type": "stream",
     "text": [
      "Ingrese la posicion del caballo: b3\n",
      "Numero de bloque  42\n",
      "\n",
      "Las posiciones legales son: A5, C5, D4, D2, C1, A1, \n",
      "\n",
      "  ╔═══════════════════════════════════════════╗\n",
      "  ║       A   B   C   D   E   F   G   H       ║\n",
      "  ║     _________________________________     ║\n",
      "  ║  8  |   |███|   |███|   |███|   |███|     ║ \n",
      "  ║  7  |███|   |███|   |███|   |███|   |     ║ \n",
      "  ║  6  |   |███|   |███|   |███|   |███|     ║ \n",
      "  ║  5  |█❶█|   |█❷█|   |███|   |███|   |     ║ \n",
      "  ║  4  |   |███|   |█❸█|   |███|   |███|     ║ \n",
      "  ║  3  |███| ♘|███|   |███|   |███|   |     ║ \n",
      "  ║  2  |   |███|   |█❹█|   |███|   |███|     ║ \n",
      "  ║  1  |█❻█|   |█❺█|   |███|   |███|   |     ║ \n",
      "  ║     ¯¯¯¯¯¯¯¯¯¯¯¯¯¯¯¯¯¯¯¯¯¯¯¯¯¯¯¯¯¯¯¯¯     ║\n",
      "  ╚═══════════════════════════════════════════╝\n"
     ]
    }
   ],
   "source": [
    "def ParoImpar(a):\n",
    "    b=2\n",
    "    while a>=b:\n",
    "        a=a-b\n",
    "    return a\n",
    "def NumfAInd(PosF):\n",
    "    PosF=(8-PosF)\n",
    "    PosF=str(PosF)\n",
    "    return PosF\n",
    "def NumcAInd(PosC):\n",
    "    if PosC==0:\n",
    "        PosC=\"A\"\n",
    "    elif PosC==1:\n",
    "        PosC=\"B\"\n",
    "    elif PosC==2:\n",
    "        PosC=\"C\"\n",
    "    elif PosC==3:\n",
    "        PosC=\"D\"\n",
    "    elif PosC==4:\n",
    "        PosC=\"E\"\n",
    "    elif PosC==5:\n",
    "        PosC=\"F\"\n",
    "    elif PosC==6:\n",
    "        PosC=\"G\"\n",
    "    elif PosC==7:\n",
    "        PosC=\"H\"\n",
    "    else:\n",
    "        PosC=\"coordenada mala\"\n",
    "    return PosC\n",
    "\n",
    "def IndANumF(posicionInd):\n",
    "    Fila=int(posicionInd[1])\n",
    "    return Fila\n",
    "\n",
    "\n",
    "def IndANumC(posicionInd):\n",
    "    colum=posicionInd[0]\n",
    "    if colum==\"A\" or colum==\"a\":\n",
    "        colum=0\n",
    "    elif colum==\"B\" or colum==\"b\":\n",
    "        colum=1\n",
    "    elif colum==\"C\" or colum==\"c\":\n",
    "        colum=2\n",
    "    elif colum==\"D\" or colum==\"d\":\n",
    "        colum=3\n",
    "    elif colum==\"E\" or colum==\"e\":\n",
    "        colum=4\n",
    "    elif colum==\"F\" or colum==\"f\":\n",
    "        colum=5\n",
    "    elif colum==\"G\" or colum==\"g\":\n",
    "        colum=6\n",
    "    elif colum== \"H\" or colum==\"h\":\n",
    "        colum=7\n",
    "    else:\n",
    "        print(\"coordenada no valida\")\n",
    "    return colum\n",
    "#Mostrar Ubicacion ingresada\n",
    "TamañoMatriz=8\n",
    "bloques=TamañoMatriz^2\n",
    "Temp=bloques\n",
    "\n",
    "posicionInd=input(\"Ingrese la posicion del caballo: \")\n",
    "NumFila=IndANumF(posicionInd) #COLUMNA_NUMEROS\n",
    "NumColum=IndANumC(posicionInd) #COLUMNA_LETRAS\n",
    "NumFila=TamañoMatriz-NumFila\n",
    "#Mostrar coordenadas para sistema\n",
    "if (NumFila>-1 and NumFila<8) and (NumColum>-1 and NumColum<8):\n",
    "    Posicion = (NumFila * TamañoMatriz) + (NumColum + 1)\n",
    "    print(\"Numero de bloque \", Posicion)\n",
    "\n",
    "    print(\"\")\n",
    "\n",
    "    #posiciones de movimiento\n",
    "    posicion1=0; posicion2=0; posicion3=0; posicion4=0; posicion5=0; posicion6=0; posicion7=0; posicion8=0;\n",
    "    #evaluar posiciones\n",
    "    print(\"Las posiciones legales son: \",end=\"\")\n",
    "    posF1=NumFila-2\n",
    "    posC1=NumColum-1\n",
    "    if (posF1>-1 and posF1<8) and (posC1>-1 and posC1<8):\n",
    "        PosF=posF1\n",
    "        PosC=posC1\n",
    "        posicion1=NumcAInd(PosC) + NumfAInd(PosF)\n",
    "        print(posicion1,end=\", \")\n",
    "        posicion1=(posF1 * TamañoMatriz) + (posC1 + 1)\n",
    "\n",
    "    posF2 = NumFila - 2\n",
    "    posC2 = NumColum + 1\n",
    "    if (posF2 > -1 and posF2 < 8) and (posC2 > -1 and posC2 < 8):\n",
    "        PosF = posF2\n",
    "        PosC = posC2\n",
    "        posicion2 = NumcAInd(PosC) + NumfAInd(PosF)\n",
    "        print(posicion2, end=\", \")\n",
    "        posicion2=(posF2 * TamañoMatriz) + (posC2 + 1)\n",
    "\n",
    "    posF3 = NumFila - 1\n",
    "    posC3 = NumColum + 2\n",
    "    if (posF3 > -1 and posF3 < 8) and (posC3 > -1 and posC3 < 8):\n",
    "        PosF = posF3\n",
    "        PosC = posC3\n",
    "        posicion3 = NumcAInd(PosC) + NumfAInd(PosF)\n",
    "        print(posicion3, end=\", \")\n",
    "        posicion3 = (posF3 * TamañoMatriz) + (posC3 + 1)\n",
    "\n",
    "    posF4 = NumFila + 1\n",
    "    posC4 = NumColum + 2\n",
    "    if (posF4 > -1 and posF4 < 8) and (posC4 > -1 and posC4 < 8):\n",
    "        PosF = posF4\n",
    "        PosC = posC4\n",
    "        posicion4 = NumcAInd(PosC) + NumfAInd(PosF)\n",
    "        print(posicion4, end=\", \")\n",
    "        posicion4 = (posF4 * TamañoMatriz) + (posC4 + 1)\n",
    "\n",
    "    posF5 = NumFila + 2\n",
    "    posC5 = NumColum + 1\n",
    "    if (posF5 > -1 and posF5 < 8) and (posC5 > -1 and posC5 < 8):\n",
    "        PosF = posF5\n",
    "        PosC = posC5\n",
    "        posicion5 = NumcAInd(PosC) + NumfAInd(PosF)\n",
    "        print(posicion5, end=\", \")\n",
    "        posicion5 = (posF5 * TamañoMatriz) + (posC5 + 1)\n",
    "\n",
    "    posF6 = NumFila + 2\n",
    "    posC6 = NumColum - 1\n",
    "    if (posF6 > -1 and posF6 < 8) and (posC6 > -1 and posC6 < 8):\n",
    "        PosF = posF6\n",
    "        PosC = posC6\n",
    "        posicion6 = NumcAInd(PosC) + NumfAInd(PosF)\n",
    "        print(posicion6, end=\", \")\n",
    "        posicion6 = (posF6 * TamañoMatriz) + (posC6 + 1)\n",
    "\n",
    "    posF7 = NumFila + 1\n",
    "    posC7 = NumColum - 2\n",
    "    if (posF7 > -1 and posF7 < 8) and (posC7 > -1 and posC7 < 8):\n",
    "        PosF = posF7\n",
    "        PosC = posC7\n",
    "        posicion7 = NumcAInd(PosC) + NumfAInd(PosF)\n",
    "        print(posicion7, end=\", \")\n",
    "        posicion7 = (posF7 * TamañoMatriz) + (posC7 + 1)\n",
    "\n",
    "    posF8 = NumFila - 1\n",
    "    posC8 = NumColum - 2\n",
    "    if (posF8 > -1 and posF8 < 8) and (posC8 > -1 and posC8 < 8):\n",
    "        PosF = posF8\n",
    "        PosC = posC8\n",
    "        posicion8 = NumcAInd(PosC) + NumfAInd(PosF)\n",
    "        print(posicion8, end=\", \")\n",
    "        posicion8 = (posF8 * TamañoMatriz) + (posC8 + 1)\n",
    "    print(\"\")\n",
    "\n",
    "    #Tablero con posiciones Legales\n",
    "    print(\"\")\n",
    "    CantFilas = 8\n",
    "    ContBloque = 1\n",
    "    contF = 8\n",
    "    mas = 0\n",
    "    convuelta = 0\n",
    "    print(\"  ╔═══════════════════════════════════════════╗\")\n",
    "    print(\"  ║       A   B   C   D   E   F   G   H       ║\")\n",
    "    print(\"  ║     _________________________________     ║\")\n",
    "\n",
    "    while CantFilas > 0:\n",
    "        BloqueXFila = 0\n",
    "        if convuelta > 0:\n",
    "            a = float(convuelta)\n",
    "            if ParoImpar(a) == 0:\n",
    "                mas = 0\n",
    "            elif ParoImpar(a) != 0:\n",
    "                mas = 1\n",
    "        while BloqueXFila <= 8:\n",
    "            if BloqueXFila == 0:\n",
    "                print(\"  ║ \", contF, \" \", end=\"\")\n",
    "                contF = contF - 1\n",
    "            else:\n",
    "                if ContBloque == Posicion:\n",
    "                    a = float(ContBloque + mas)\n",
    "                    if ParoImpar(a) == 0:\n",
    "                        print(\"|♘█\", end=\"\")\n",
    "                        ContBloque = ContBloque + 1\n",
    "                    elif ParoImpar(a) != 0:\n",
    "                        print(\"| ♘\", end=\"\")\n",
    "                        ContBloque = ContBloque + 1\n",
    "                elif ContBloque==posicion1:\n",
    "                    a=float(ContBloque+mas)\n",
    "                    if ParoImpar(a)==0:\n",
    "                        print(\"|█❶█\", end=\"\")\n",
    "                        ContBloque = ContBloque + 1\n",
    "                    elif ParoImpar(a)!=0:\n",
    "                        print(\"| ①ꞈ\", end=\"\")\n",
    "                        ContBloque = ContBloque + 1\n",
    "                elif ContBloque==posicion2:\n",
    "                    a=float(ContBloque+mas)\n",
    "                    if ParoImpar(a)==0:\n",
    "                        print(\"|█❷█\", end=\"\")\n",
    "                        ContBloque = ContBloque + 1\n",
    "                    elif ParoImpar(a)!=0:\n",
    "                        print(\"| ②ꞈ\", end=\"\")\n",
    "                        ContBloque = ContBloque + 1\n",
    "                elif ContBloque==posicion3:\n",
    "                    a=float(ContBloque+mas)\n",
    "                    if ParoImpar(a)==0:\n",
    "                        print(\"|█❸█\", end=\"\")\n",
    "                        ContBloque = ContBloque + 1\n",
    "                    elif ParoImpar(a)!=0:\n",
    "                        print(\"| ③ꞈ\", end=\"\")\n",
    "                        ContBloque = ContBloque + 1\n",
    "                elif ContBloque==posicion4:\n",
    "                    a=float(ContBloque+mas)\n",
    "                    if ParoImpar(a)==0:\n",
    "                        print(\"|█❹█\", end=\"\")\n",
    "                        ContBloque = ContBloque + 1\n",
    "                    elif ParoImpar(a)!=0:\n",
    "                        print(\"| ④ꞈ\", end=\"\")\n",
    "                        ContBloque = ContBloque + 1\n",
    "                elif ContBloque==posicion5:\n",
    "                    a=float(ContBloque+mas)\n",
    "                    if ParoImpar(a)==0:\n",
    "                        print(\"|█❺█\", end=\"\")\n",
    "                        ContBloque = ContBloque + 1\n",
    "                    elif ParoImpar(a)!=0:\n",
    "                        print(\"| ⑤ꞈ\", end=\"\")\n",
    "                        ContBloque = ContBloque + 1\n",
    "                elif ContBloque==posicion6:\n",
    "                    a=float(ContBloque+mas)\n",
    "                    if ParoImpar(a)==0:\n",
    "                        print(\"|█❻█\", end=\"\")\n",
    "                        ContBloque = ContBloque + 1\n",
    "                    elif ParoImpar(a)!=0:\n",
    "                        print(\"| ⑥ꞈ\", end=\"\")\n",
    "                        ContBloque = ContBloque + 1\n",
    "                elif ContBloque==posicion7:\n",
    "                    a=float(ContBloque+mas)\n",
    "                    if ParoImpar(a)==0:\n",
    "                        print(\"|█❼█\", end=\"\")\n",
    "                        ContBloque = ContBloque + 1\n",
    "                    elif ParoImpar(a)!=0:\n",
    "                        print(\"| ⑦ꞈ\", end=\"\")\n",
    "                        ContBloque = ContBloque + 1\n",
    "                elif ContBloque==posicion8:\n",
    "                    a=float(ContBloque+mas)\n",
    "                    if ParoImpar(a)==0:\n",
    "                        print(\"|█❽█\", end=\"\")\n",
    "                        ContBloque = ContBloque + 1\n",
    "                    elif ParoImpar(a)!=0:\n",
    "                        print(\"| ⑧ꞈ\", end=\"\")\n",
    "                        ContBloque = ContBloque + 1\n",
    "                else:\n",
    "                    a = float(ContBloque + mas)\n",
    "                    if ParoImpar(a) == 0:\n",
    "                        print(\"|███\", end=\"\")\n",
    "                        ContBloque = ContBloque + 1\n",
    "                    elif ParoImpar(a) != 0:\n",
    "                        print(\"|   \", end=\"\")\n",
    "                        ContBloque = ContBloque + 1\n",
    "            if BloqueXFila == 8:\n",
    "                print(\"|     ║ \")\n",
    "            BloqueXFila = BloqueXFila + 1\n",
    "        convuelta = convuelta + 1\n",
    "        CantFilas = CantFilas - 1\n",
    "\n",
    "    print(\"  ║     ¯¯¯¯¯¯¯¯¯¯¯¯¯¯¯¯¯¯¯¯¯¯¯¯¯¯¯¯¯¯¯¯¯     ║\")\n",
    "    print(\"  ╚═══════════════════════════════════════════╝\")"
   ]
  }
 ],
 "metadata": {
  "kernelspec": {
   "display_name": "Python 3 (ipykernel)",
   "language": "python",
   "name": "python3"
  },
  "language_info": {
   "codemirror_mode": {
    "name": "ipython",
    "version": 3
   },
   "file_extension": ".py",
   "mimetype": "text/x-python",
   "name": "python",
   "nbconvert_exporter": "python",
   "pygments_lexer": "ipython3",
   "version": "3.9.5"
  }
 },
 "nbformat": 4,
 "nbformat_minor": 5
}
